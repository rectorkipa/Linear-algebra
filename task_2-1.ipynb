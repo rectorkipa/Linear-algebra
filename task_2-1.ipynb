{
  "cells": [
    {
      "cell_type": "markdown",
      "metadata": {
        "id": "HPMpEWusIIIM"
      },
      "source": [
        "# Урок 2, часть 1. Домашнее задание"
      ]
    },
    {
      "cell_type": "markdown",
      "metadata": {
        "id": "xhSMidcRIIIx"
      },
      "source": [
        "Все задания рекомендуется делать вручную, затем проверяя полученные результаты с использованием numpy.\n",
        "\n",
        "__1.__ Установить, какие произведения матриц $AB$ и $BA$ определены, и найти размерности полученных матриц:\n",
        "\n",
        "   а) $A$ — матрица $4\\times 2$, $B$ — матрица $4\\times 2$;\n",
        "    \n",
        "   б) $A$ — матрица $2\\times 5$, $B$ — матрица $5\\times 3$;\n",
        "    \n",
        "   в) $A$ — матрица $8\\times 3$, $B$ — матрица $3\\times 8$;\n",
        "    \n",
        "   г) $A$ — квадратная матрица $4\\times 4$, $B$ — квадратная матрица $4\\times 4$.\n",
        "    \n",
        "__2.__ Найти сумму и произведение матриц $A=\\begin{pmatrix}\n",
        "1 & -2\\\\ \n",
        "3 & 0\n",
        "\\end{pmatrix}$ и $B=\\begin{pmatrix}\n",
        "4 & -1\\\\ \n",
        "0 & 5\n",
        "\\end{pmatrix}.$\n",
        "\n",
        "__3.__ Из закономерностей сложения и умножения матриц на число можно сделать вывод, что матрицы одного размера образуют линейное пространство. Вычислить линейную комбинацию $3A-2B+4C$ для матриц $A=\\begin{pmatrix}\n",
        "1 & 7\\\\ \n",
        "3 & -6\n",
        "\\end{pmatrix}$, $B=\\begin{pmatrix}\n",
        "0 & 5\\\\ \n",
        "2 & -1\n",
        "\\end{pmatrix}$, $C=\\begin{pmatrix}\n",
        "2 & -4\\\\ \n",
        "1 & 1\n",
        "\\end{pmatrix}.$\n",
        "    \n",
        "__4.__ Дана матрица $A=\\begin{pmatrix}\n",
        "4 & 1\\\\ \n",
        "5 & -2\\\\ \n",
        "2 & 3\n",
        "\\end{pmatrix}$.\n",
        "Вычислить $AA^{T}$ и $A^{T}A$.\n",
        "\n",
        "__5*.__ Написать на Python функцию для перемножения двух произвольных матриц, не используя NumPy."
      ]
    },
    {
      "cell_type": "code",
      "source": [
        "import numpy as np"
      ],
      "metadata": {
        "id": "H3aVHAi9oWtR"
      },
      "execution_count": 1,
      "outputs": []
    },
    {
      "cell_type": "code",
      "execution_count": 2,
      "metadata": {
        "id": "8LzN5ls4IIIz",
        "outputId": "52348214-9cfa-4235-85c2-4a73e9338192",
        "colab": {
          "base_uri": "https://localhost:8080/"
        }
      },
      "outputs": [
        {
          "output_type": "stream",
          "name": "stdout",
          "text": [
            "Матрица A\n",
            "[[ 1 -2]\n",
            " [ 3  0]]\n",
            "\n",
            "Матрица B\n",
            "[[ 4 -1]\n",
            " [ 0  5]]\n",
            "\n",
            "Матрица С = A + B\n",
            "[[ 5 -3]\n",
            " [ 3  5]]\n"
          ]
        }
      ],
      "source": [
        "# 2\n",
        "\n",
        "a = np.array([[1, -2], [3, 0]])\n",
        "b = np.array([[4, -1], [0, 5]])\n",
        "\n",
        "print(f'Матрица A\\n{a}\\n')\n",
        "print(f'Матрица B\\n{b}\\n')\n",
        "print(f'Матрица С = A + B\\n{a + b}')"
      ]
    },
    {
      "cell_type": "code",
      "source": [
        "A = np.array([[1, -2], [3, 0]])\n",
        "B = np.array([[4, -1], [0, 5]])\n",
        "\n",
        "print(f'Матрица A\\n{A}')\n",
        "print(f'Матрица B\\n{B}')\n",
        "print(f'Матрица AB\\n{A.dot(B)}')\n",
        "print(f'Матрица BA\\n{B.dot(A)}')"
      ],
      "metadata": {
        "colab": {
          "base_uri": "https://localhost:8080/"
        },
        "id": "p8AghBB8sl7q",
        "outputId": "b65a993c-af64-47a6-c8f8-d116b9e781eb"
      },
      "execution_count": 3,
      "outputs": [
        {
          "output_type": "stream",
          "name": "stdout",
          "text": [
            "Матрица A\n",
            "[[ 1 -2]\n",
            " [ 3  0]]\n",
            "Матрица B\n",
            "[[ 4 -1]\n",
            " [ 0  5]]\n",
            "Матрица AB\n",
            "[[  4 -11]\n",
            " [ 12  -3]]\n",
            "Матрица BA\n",
            "[[ 1 -8]\n",
            " [15  0]]\n"
          ]
        }
      ]
    },
    {
      "cell_type": "code",
      "source": [
        "# 3\n",
        "\n",
        "a = np.array([[1, 7], [3, -6]])\n",
        "k = 3\n",
        "\n",
        "print(f'Матрица А\\n{a}\\n')\n",
        "print(f'Матрица 3*А\\n{k * a}')\n",
        "\n",
        "b = np.array([[0, 5], [2, -1]])\n",
        "l = -2\n",
        "\n",
        "print(f'Матрица B\\n{b}\\n')\n",
        "print(f'Матрица -2*B\\n{l * b}')\n",
        "\n",
        "c = np.array([[2, -4], [1, 1]])\n",
        "m = 4\n",
        "\n",
        "print(f'Матрица C\\n{c}\\n')\n",
        "print(f'Матрица 4*C\\n{m * c}')\n",
        "\n",
        "print(f'Линейная комбинация 3*А-2*B+4*C\\n{(k * a)+(l * b)+(m * c)}')"
      ],
      "metadata": {
        "colab": {
          "base_uri": "https://localhost:8080/"
        },
        "id": "QowXV_njvUPs",
        "outputId": "f64601a0-989b-41c1-b588-bb3444b22103"
      },
      "execution_count": 4,
      "outputs": [
        {
          "output_type": "stream",
          "name": "stdout",
          "text": [
            "Матрица А\n",
            "[[ 1  7]\n",
            " [ 3 -6]]\n",
            "\n",
            "Матрица 3*А\n",
            "[[  3  21]\n",
            " [  9 -18]]\n",
            "Матрица B\n",
            "[[ 0  5]\n",
            " [ 2 -1]]\n",
            "\n",
            "Матрица -2*B\n",
            "[[  0 -10]\n",
            " [ -4   2]]\n",
            "Матрица C\n",
            "[[ 2 -4]\n",
            " [ 1  1]]\n",
            "\n",
            "Матрица 4*C\n",
            "[[  8 -16]\n",
            " [  4   4]]\n",
            "Линейная комбинация 3*А-2*B+4*C\n",
            "[[ 11  -5]\n",
            " [  9 -12]]\n"
          ]
        }
      ]
    },
    {
      "cell_type": "code",
      "source": [
        "# 4\n",
        "\n",
        "a = np.array([[4, 1], [5, -2], [2, 3]])\n",
        "\n",
        "print(f'Исходная матрица A:\\n{a}')\n",
        "print(f'Транспонированная матрица AT:\\n{a.T}')\n",
        "\n",
        "print(f'Матрица (корреляционная) AAT\\n{a.dot(a.T)}')\n",
        "\n",
        "print(f'Матрица (ковариационная) ATA\\n{(a.T).dot(a)}')"
      ],
      "metadata": {
        "colab": {
          "base_uri": "https://localhost:8080/"
        },
        "id": "BICby31D9pE2",
        "outputId": "1214f901-f33e-4612-a23c-53c332f5e346"
      },
      "execution_count": 5,
      "outputs": [
        {
          "output_type": "stream",
          "name": "stdout",
          "text": [
            "Исходная матрица A:\n",
            "[[ 4  1]\n",
            " [ 5 -2]\n",
            " [ 2  3]]\n",
            "Транспонированная матрица AT:\n",
            "[[ 4  5  2]\n",
            " [ 1 -2  3]]\n",
            "Матрица (корреляционная) AAT\n",
            "[[17 18 11]\n",
            " [18 29  4]\n",
            " [11  4 13]]\n",
            "Матрица (ковариационная) ATA\n",
            "[[45  0]\n",
            " [ 0 14]]\n"
          ]
        }
      ]
    },
    {
      "cell_type": "code",
      "source": [
        "# 5*\n",
        "\n",
        "def multiplicate_matrix(left,right):\n",
        "    try: \n",
        "        left.shape[1]==right.shape[0]\n",
        "        result=[]\n",
        "        temp=[]\n",
        "        s=0\n",
        "        for i in range(left.shape[0]):\n",
        "            for j in range(right.shape[1]):\n",
        "                for k in range(right.shape[0]):\n",
        "                    s+=left[i][k]*right[k][j]\n",
        "                temp.append(s)\n",
        "                s=0\n",
        "            result.append(temp)\n",
        "            temp=[]\n",
        "        return np.array(result)\n",
        "    except Exception:\n",
        "        print('Произведение матриц таких размеров не определено!')"
      ],
      "metadata": {
        "id": "G4KSR9wUAbBh"
      },
      "execution_count": 6,
      "outputs": []
    },
    {
      "cell_type": "code",
      "source": [
        "a = np.array([[4, 1], [5, -2], [2, 3]])\n",
        "b = a.T\n",
        "\n",
        "multiplicate_matrix(a,b)"
      ],
      "metadata": {
        "colab": {
          "base_uri": "https://localhost:8080/"
        },
        "id": "p3bIFzdfAqzb",
        "outputId": "4a464ab6-8736-4a30-c487-72518693d9aa"
      },
      "execution_count": 7,
      "outputs": [
        {
          "output_type": "execute_result",
          "data": {
            "text/plain": [
              "array([[17, 18, 11],\n",
              "       [18, 29,  4],\n",
              "       [11,  4, 13]])"
            ]
          },
          "metadata": {},
          "execution_count": 7
        }
      ]
    },
    {
      "cell_type": "code",
      "source": [
        "a = np.array([[4, 1], [5, -2], [2, 3], [0, 1]])\n",
        "b = np.array([[1, 2], [3, 4], [5, 6], [7, 8]])\n",
        "\n",
        "multiplicate_matrix(a,b)"
      ],
      "metadata": {
        "colab": {
          "base_uri": "https://localhost:8080/"
        },
        "id": "sDxzP_LqA6KF",
        "outputId": "1492bbb4-847b-4db8-f240-dd43f0da030d"
      },
      "execution_count": 8,
      "outputs": [
        {
          "output_type": "stream",
          "name": "stdout",
          "text": [
            "Произведение матриц таких размеров не определено!\n"
          ]
        }
      ]
    }
  ],
  "metadata": {
    "colab": {
      "collapsed_sections": [],
      "name": "task_2-1.ipynb",
      "provenance": []
    },
    "kernelspec": {
      "display_name": "Python 3 (ipykernel)",
      "language": "python",
      "name": "python3"
    },
    "language_info": {
      "codemirror_mode": {
        "name": "ipython",
        "version": 3
      },
      "file_extension": ".py",
      "mimetype": "text/x-python",
      "name": "python",
      "nbconvert_exporter": "python",
      "pygments_lexer": "ipython3",
      "version": "3.8.13"
    }
  },
  "nbformat": 4,
  "nbformat_minor": 0
}