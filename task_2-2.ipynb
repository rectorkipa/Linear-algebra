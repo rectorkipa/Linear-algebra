{
  "cells": [
    {
      "cell_type": "markdown",
      "metadata": {
        "id": "Spnt0b4tWtQd"
      },
      "source": [
        "# Урок 2, часть 2. Домашнее задание"
      ]
    },
    {
      "cell_type": "markdown",
      "metadata": {
        "id": "H3qXQfJ-WtUp"
      },
      "source": [
        "Все задания рекомендуется выполнять вручную, затем проверяя полученные результаты с использованием Numpy.\n",
        "\n",
        "__1.__ Вычислить определитель:\n",
        "\n",
        "   a)\n",
        "\n",
        "$$\\begin{vmatrix}\n",
        "sinx & -cosx\\\\ \n",
        "cosx & sinx\n",
        "\\end{vmatrix};$$\n",
        "\n",
        "   б)\n",
        "    \n",
        "$$\\begin{vmatrix}\n",
        "4 & 2 & 3\\\\ \n",
        "0 & 5 & 1\\\\ \n",
        "0 & 0 & 9\n",
        "\\end{vmatrix};$$\n",
        "    \n",
        "   в)\n",
        "\n",
        "$$\\begin{vmatrix}\n",
        "1 & 2 & 3\\\\ \n",
        "4 & 5 & 6\\\\ \n",
        "7 & 8 & 9\n",
        "\\end{vmatrix}.$$\n",
        "\n",
        "\n",
        "__2.__ Определитель матрицы $A$ равен $4$. Найти:\n",
        "\n",
        "   а) $det(A^{2})$;\n",
        "    \n",
        "   б) $det(A^{T})$;\n",
        "    \n",
        "   в) $det(2A)$.\n",
        "   \n",
        "__3.__  Доказать, что матрица\n",
        "\n",
        "$$\\begin{pmatrix}\n",
        "-2 & 7 & -3\\\\ \n",
        "4 & -14 & 6\\\\ \n",
        "-3 & 7 & 13\n",
        "\\end{pmatrix}$$\n",
        "   \n",
        "вырожденная.\n",
        "\n",
        "__4.__ Найти ранг матрицы:\n",
        "\n",
        "   а) $\\begin{pmatrix}\n",
        "1 & 2 & 3\\\\ \n",
        "1 & 1 & 1\\\\ \n",
        "2 & 3 & 4\n",
        "\\end{pmatrix};$\n",
        "\n",
        "   б) $\\begin{pmatrix}\n",
        "0 & 0 & 2 & 1\\\\ \n",
        "0 & 0 & 2 & 2\\\\ \n",
        "0 & 0 & 4 & 3\\\\ \n",
        "2 & 3 & 5 & 6\n",
        "\\end{pmatrix}.$"
      ]
    },
    {
      "cell_type": "code",
      "source": [
        "import numpy as np\n",
        "import scipy.linalg\n",
        "import math"
      ],
      "metadata": {
        "id": "I6BiRkDeolQ9"
      },
      "execution_count": 16,
      "outputs": []
    },
    {
      "cell_type": "code",
      "source": [
        "# 1\n",
        "\n",
        "# а)\n",
        "\n",
        "X = 0.46\n",
        "a = np.array([[math.sin(X), -math.cos(X)], [math.cos(X), math.sin(X)]])\n",
        "print(f'Матрица:\\n{a}')\n",
        "print(f'Определитель:\\n{np.linalg.det(a):.0f}\\n')\n",
        "\n",
        "# б) \n",
        "\n",
        "a = np.array([[4, 2, 3], [0, 5, 1], [0, 0, 9]])\n",
        "print(f'Матрица:\\n{a}')\n",
        "print(f'Определитель:\\n{np.linalg.det(a):.0f}\\n')\n",
        "\n",
        "# в) \n",
        "\n",
        "a = np.array([[1, 2, 3], [4, 5, 6], [7, 8, 9]])\n",
        "print(f'Матрица:\\n{a}')\n",
        "print(f'Определитель:\\n{np.linalg.det(a):.0f}')"
      ],
      "metadata": {
        "colab": {
          "base_uri": "https://localhost:8080/"
        },
        "id": "YU2CMKnvomVO",
        "outputId": "366cabc6-681a-4aa2-8f21-a73e60e7ead8"
      },
      "execution_count": 17,
      "outputs": [
        {
          "output_type": "stream",
          "name": "stdout",
          "text": [
            "Матрица:\n",
            "[[ 0.44394811 -0.8960525 ]\n",
            " [ 0.8960525   0.44394811]]\n",
            "Определитель:\n",
            "1\n",
            "\n",
            "Матрица:\n",
            "[[4 2 3]\n",
            " [0 5 1]\n",
            " [0 0 9]]\n",
            "Определитель:\n",
            "180\n",
            "\n",
            "Матрица:\n",
            "[[1 2 3]\n",
            " [4 5 6]\n",
            " [7 8 9]]\n",
            "Определитель:\n",
            "0\n"
          ]
        }
      ]
    },
    {
      "cell_type": "code",
      "source": [
        "# 3\n",
        "\n",
        "a = np.array([[-2, 7, -3], [4, -14, 6], [-3, 7, 13]])\n",
        "print(f'Матрица:\\n{a}')\n",
        "print(f'Определитель:\\n{np.linalg.det(a):.0f}')"
      ],
      "metadata": {
        "colab": {
          "base_uri": "https://localhost:8080/"
        },
        "id": "JIwDYud5w1jZ",
        "outputId": "ab32bb43-b990-4f48-a94f-4ad47ab1aa6c"
      },
      "execution_count": 18,
      "outputs": [
        {
          "output_type": "stream",
          "name": "stdout",
          "text": [
            "Матрица:\n",
            "[[ -2   7  -3]\n",
            " [  4 -14   6]\n",
            " [ -3   7  13]]\n",
            "Определитель:\n",
            "0\n"
          ]
        }
      ]
    },
    {
      "cell_type": "code",
      "source": [
        "# 4\n",
        "\n",
        "# а)\n",
        "\n",
        "a = np.array([[1, 2, 3], [1, 1, 1], [2, 3, 4]])\n",
        "r = np.linalg.matrix_rank(a)\n",
        "\n",
        "print(f'Матрица:\\n{a}')\n",
        "print(f'Ранг матрицы: {r}\\n')\n",
        "\n",
        "# б)\n",
        "\n",
        "a = np.array([[0, 0, 2, 1], [0, 0, 2, 2], [0, 0, 4, 3], [2, 3, 5, 6]])\n",
        "r = np.linalg.matrix_rank(a)\n",
        "\n",
        "print(f'Матрица:\\n{a}')\n",
        "print(f'Ранг матрицы: {r}\\n')"
      ],
      "metadata": {
        "colab": {
          "base_uri": "https://localhost:8080/"
        },
        "id": "xfOu2nT-7Mes",
        "outputId": "a848aa8d-be6e-4942-9ad0-430458ffc06e"
      },
      "execution_count": 19,
      "outputs": [
        {
          "output_type": "stream",
          "name": "stdout",
          "text": [
            "Матрица:\n",
            "[[1 2 3]\n",
            " [1 1 1]\n",
            " [2 3 4]]\n",
            "Ранг матрицы: 2\n",
            "\n",
            "Матрица:\n",
            "[[0 0 2 1]\n",
            " [0 0 2 2]\n",
            " [0 0 4 3]\n",
            " [2 3 5 6]]\n",
            "Ранг матрицы: 3\n",
            "\n"
          ]
        }
      ]
    }
  ],
  "metadata": {
    "colab": {
      "collapsed_sections": [],
      "name": "task_2-2.ipynb\"",
      "provenance": []
    },
    "kernelspec": {
      "display_name": "Python 3 (ipykernel)",
      "language": "python",
      "name": "python3"
    },
    "language_info": {
      "codemirror_mode": {
        "name": "ipython",
        "version": 3
      },
      "file_extension": ".py",
      "mimetype": "text/x-python",
      "name": "python",
      "nbconvert_exporter": "python",
      "pygments_lexer": "ipython3",
      "version": "3.8.13"
    }
  },
  "nbformat": 4,
  "nbformat_minor": 0
}