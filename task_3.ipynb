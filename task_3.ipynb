{
  "cells": [
    {
      "cell_type": "markdown",
      "metadata": {
        "id": "Wg1dayOgCGxK"
      },
      "source": [
        "# Урок 3. Домашнее задание"
      ]
    },
    {
      "cell_type": "markdown",
      "metadata": {
        "id": "sNOgFRFrCG2S"
      },
      "source": [
        "__1.__ Найти собственные векторы и собственные значения для линейного оператора, заданного матрицей\n",
        "\n",
        "$$A=\\begin{pmatrix}\n",
        "-1 & -6\\\\ \n",
        "2 & 6\n",
        "\\end{pmatrix}.$$\n",
        "\n",
        "__2.__ Дан оператор поворота на 180 градусов, задаваемый матрицей \n",
        "\n",
        "$$A=\\begin{pmatrix}\n",
        "-1 & 0\\\\ \n",
        "0 & -1\n",
        "\\end{pmatrix}.$$\n",
        "\n",
        "Показать, что __любой__ вектор является для него собственным.\n",
        "\n",
        "__3.__ Пусть линейный оператор задан матрицей\n",
        "\n",
        "$$A=\\begin{pmatrix}\n",
        "1 & 1\\\\ \n",
        "-1 & 3\n",
        "\\end{pmatrix}.$$\n",
        "\n",
        "Установить, является ли вектор $x=(1,1)$ собственным вектором этого линейного оператора.\n",
        "\n",
        "__4.__ Пусть линейный оператор задан матрицей\n",
        "\n",
        "$$A=\\begin{pmatrix}\n",
        "0 & 3 & 0\\\\ \n",
        "3 & 0 & 0\\\\\n",
        "0 & 0 & 3\n",
        "\\end{pmatrix}.$$\n",
        "\n",
        "Установить, является ли вектор $x=(3, -3, -4)$ собственным вектором этого линейного оператора."
      ]
    },
    {
      "cell_type": "code",
      "source": [
        "import numpy as np\n",
        "np.set_printoptions(precision=2, suppress=True)"
      ],
      "metadata": {
        "id": "XEl_cIU25RIJ"
      },
      "execution_count": 1,
      "outputs": []
    },
    {
      "cell_type": "code",
      "source": [
        "# 1\n",
        "\n",
        "a = np.array([[-1, -6], [2, 6]])\n",
        "w, v = np.linalg.eig(a)\n",
        "\n",
        "print(f'Матрица A:\\n{a}\\n')\n",
        "print(f'Собственные значения:\\n{w}\\n')\n",
        "print(f'Собственные векторы:\\n{v}\\n')\n",
        "\n",
        "print(f'v1\\n{v.T[1]}')\n",
        "print(f'v1\\n{v[:, 1]}')\n",
        "print(f'\\n{v.T[1].dot(v.T[1])}')"
      ],
      "metadata": {
        "colab": {
          "base_uri": "https://localhost:8080/"
        },
        "id": "2EiImj6s5Y38",
        "outputId": "163f0667-f938-4ed3-90ba-b83ffb3d09a1"
      },
      "execution_count": 4,
      "outputs": [
        {
          "output_type": "stream",
          "name": "stdout",
          "text": [
            "Матрица A:\n",
            "[[-1 -6]\n",
            " [ 2  6]]\n",
            "\n",
            "Собственные значения:\n",
            "[2. 3.]\n",
            "\n",
            "Собственные векторы:\n",
            "[[-0.89  0.83]\n",
            " [ 0.45 -0.55]]\n",
            "\n",
            "v1\n",
            "[ 0.83 -0.55]\n",
            "v1\n",
            "[ 0.83 -0.55]\n",
            "\n",
            "1.0\n"
          ]
        }
      ]
    },
    {
      "cell_type": "code",
      "source": [
        "# 2\n",
        "\n",
        "a = np.array([[-1, 0], [0, -1]])\n",
        "w, v = np.linalg.eig(a)\n",
        "\n",
        "print(f'Матрица A:\\n{a}\\n')\n",
        "print(f'Собственные значения:\\n{w}\\n')\n",
        "print(f'Собственные векторы:\\n{v}\\n')\n",
        "\n",
        "print(f'v1\\n{v.T[1]}')\n",
        "print(f'v1\\n{v[:, 1]}')\n",
        "print(f'\\n{v.T[1].dot(v.T[1])}')"
      ],
      "metadata": {
        "colab": {
          "base_uri": "https://localhost:8080/"
        },
        "id": "jC7qepbNIh_h",
        "outputId": "2a46f726-a98f-4b4d-dcf1-77374c6b323c"
      },
      "execution_count": 5,
      "outputs": [
        {
          "output_type": "stream",
          "name": "stdout",
          "text": [
            "Матрица A:\n",
            "[[-1  0]\n",
            " [ 0 -1]]\n",
            "\n",
            "Собственные значения:\n",
            "[-1. -1.]\n",
            "\n",
            "Собственные векторы:\n",
            "[[1. 0.]\n",
            " [0. 1.]]\n",
            "\n",
            "v1\n",
            "[0. 1.]\n",
            "v1\n",
            "[0. 1.]\n",
            "\n",
            "1.0\n"
          ]
        }
      ]
    },
    {
      "cell_type": "code",
      "source": [
        "# 3\n",
        "\n",
        "a = np.array([[1, 1], [-1, 3]])\n",
        "w, v = np.linalg.eig(a)\n",
        "\n",
        "print(f'Матрица A:\\n{a}\\n')\n",
        "print(f'Собственные значения:\\n{w}\\n')\n",
        "print(f'Собственные векторы:\\n{v}\\n')\n",
        "\n",
        "print(f'v1\\n{v.T[1]}')\n",
        "print(f'v1\\n{v[:, 1]}')\n",
        "print(f'\\n{v.T[1].dot(v.T[1])}')"
      ],
      "metadata": {
        "colab": {
          "base_uri": "https://localhost:8080/"
        },
        "id": "LCZH3C2sKnNl",
        "outputId": "82c8954f-a229-4927-81ee-c3227ad9e367"
      },
      "execution_count": 6,
      "outputs": [
        {
          "output_type": "stream",
          "name": "stdout",
          "text": [
            "Матрица A:\n",
            "[[ 1  1]\n",
            " [-1  3]]\n",
            "\n",
            "Собственные значения:\n",
            "[2. 2.]\n",
            "\n",
            "Собственные векторы:\n",
            "[[ 0.71 -0.71]\n",
            " [ 0.71 -0.71]]\n",
            "\n",
            "v1\n",
            "[-0.71 -0.71]\n",
            "v1\n",
            "[-0.71 -0.71]\n",
            "\n",
            "1.0\n"
          ]
        }
      ]
    },
    {
      "cell_type": "code",
      "source": [
        "# 4\n",
        "\n",
        "a = np.array([[0, 3, 0], [3, 0, 0], [0, 0, 3]])\n",
        "w, v = np.linalg.eig(a)\n",
        "\n",
        "print(f'Матрица A:\\n{a}\\n')\n",
        "print(f'Собственные значения:\\n{w}\\n')\n",
        "print(f'Собственные векторы:\\n{v}\\n')\n",
        "\n",
        "print(f'v1\\n{v.T[1]}')\n",
        "print(f'v1\\n{v[:, 1]}')\n",
        "print(f'\\n{v.T[1].dot(v.T[1])}')"
      ],
      "metadata": {
        "colab": {
          "base_uri": "https://localhost:8080/"
        },
        "id": "9r1g6c7BL41U",
        "outputId": "a9c563b0-fe02-400d-b976-aa52809ac5d8"
      },
      "execution_count": 7,
      "outputs": [
        {
          "output_type": "stream",
          "name": "stdout",
          "text": [
            "Матрица A:\n",
            "[[0 3 0]\n",
            " [3 0 0]\n",
            " [0 0 3]]\n",
            "\n",
            "Собственные значения:\n",
            "[ 3. -3.  3.]\n",
            "\n",
            "Собственные векторы:\n",
            "[[ 0.71 -0.71  0.  ]\n",
            " [ 0.71  0.71  0.  ]\n",
            " [ 0.    0.    1.  ]]\n",
            "\n",
            "v1\n",
            "[-0.71  0.71  0.  ]\n",
            "v1\n",
            "[-0.71  0.71  0.  ]\n",
            "\n",
            "1.0\n"
          ]
        }
      ]
    }
  ],
  "metadata": {
    "colab": {
      "collapsed_sections": [],
      "name": "task_3.ipynb",
      "provenance": []
    },
    "kernelspec": {
      "display_name": "Python 3 (ipykernel)",
      "language": "python",
      "name": "python3"
    },
    "language_info": {
      "codemirror_mode": {
        "name": "ipython",
        "version": 3
      },
      "file_extension": ".py",
      "mimetype": "text/x-python",
      "name": "python",
      "nbconvert_exporter": "python",
      "pygments_lexer": "ipython3",
      "version": "3.8.13"
    }
  },
  "nbformat": 4,
  "nbformat_minor": 0
}