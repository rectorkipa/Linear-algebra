{
  "cells": [
    {
      "cell_type": "markdown",
      "metadata": {
        "id": "rnPVQP84c7cu"
      },
      "source": [
        "## Практическое задание"
      ]
    },
    {
      "cell_type": "markdown",
      "metadata": {
        "id": "81d4BnNXc7cy"
      },
      "source": [
        "__1.__ Найти скалярное произведение векторов $x, y \\in \\mathbb{R}$:<br>\n",
        "а) $x=(0,-3, 6),~y=(-4, 7, 9);$<br>\n",
        "б) $x=(7, -4, 0, 1),~y=(-3, 1, 11, 2).$\n",
        "\n",
        "__2.__ Найти нормы векторов $(4, 2, 4)$ и $(12, 3, 4)$ и угол между ними.\n",
        "\n",
        "\n",
        "__3.__ Будет ли линейное пространство евклидовым, если за скалярное произведение принять:<br>\n",
        "а) произведение длин векторов;<br>\n",
        "б) утроенное обычное скалярное произведение векторов?\n",
        "   \n",
        "   \n",
        "__4.__ Какие из нижеперечисленных векторов образуют ортонормированный базис в линейном пространстве $\\mathbb{R}^{3}$:<br>\n",
        "а) $(1,0,0),(0,0,1);$ <br>\n",
        "б) $(1/\\sqrt{2},-1/\\sqrt{2},0),(1/\\sqrt{2},1/\\sqrt{2},0), (0,0,1);$<br>\n",
        "в) $(1/2, -1/2, 0), (0, 1/2, 1/2), (0,0,1);$<br>\n",
        "г) $(1,0,0),(0,1,0),(0,0,1)?$ "
      ]
    },
    {
      "cell_type": "code",
      "source": [
        "import numpy as np\n",
        "from numpy.linalg import norm"
      ],
      "metadata": {
        "id": "gPWo5gxPnbQb"
      },
      "execution_count": 9,
      "outputs": []
    },
    {
      "cell_type": "code",
      "source": [
        "# 1\n",
        "\n",
        "# а)\n",
        "x = np.array([0,-3,6])\n",
        "y = np.array([-4,7,9])\n",
        "print(f'Скалярное произведение векторов x и y:\\n{np.dot(x, y)}')"
      ],
      "metadata": {
        "colab": {
          "base_uri": "https://localhost:8080/"
        },
        "id": "I5KMnnkLndfg",
        "outputId": "0ef51e07-0b0c-4d53-bb95-97c81c875f4f"
      },
      "execution_count": 10,
      "outputs": [
        {
          "output_type": "stream",
          "name": "stdout",
          "text": [
            "Скалярное произведение векторов x и y:\n",
            "33\n"
          ]
        }
      ]
    },
    {
      "cell_type": "code",
      "source": [
        "# 1\n",
        "\n",
        "# б)\n",
        "x = np.array([7,-4,0,1])\n",
        "y = np.array([-3,1,11,2])\n",
        "print(f'Скалярное произведение векторов x и y:\\n{np.dot(x, y)}')"
      ],
      "metadata": {
        "colab": {
          "base_uri": "https://localhost:8080/"
        },
        "id": "0QvM3pfspBKD",
        "outputId": "eacd6396-df27-4503-bbff-56a3ea505c6f"
      },
      "execution_count": 11,
      "outputs": [
        {
          "output_type": "stream",
          "name": "stdout",
          "text": [
            "Скалярное произведение векторов x и y:\n",
            "-23\n"
          ]
        }
      ]
    },
    {
      "cell_type": "code",
      "source": [
        "# 2\n",
        "\n",
        "a = np.array([4,2,4])\n",
        "b = np.array([12,3,4])\n",
        "print(f'l2 (евклидова) норма вектора a:\\n{norm(a)}')\n",
        "print(f'l2 (евклидова) норма вектора b:\\n{norm(b)}')\n",
        "cos_phi = np.dot(a, b) / (norm(a) * norm(b))\n",
        "# print(f'Косинус угла между a и b: {cos_phi:.2f}')\n",
        "print(f'Угол между векторами a и b: {np.arccos(cos_phi):.2f}')"
      ],
      "metadata": {
        "colab": {
          "base_uri": "https://localhost:8080/"
        },
        "id": "r_9p7XRIsDox",
        "outputId": "e8acef80-5565-4c26-ba90-aba9b3f73d84"
      },
      "execution_count": 12,
      "outputs": [
        {
          "output_type": "stream",
          "name": "stdout",
          "text": [
            "l2 (евклидова) норма вектора a:\n",
            "6.0\n",
            "l2 (евклидова) норма вектора b:\n",
            "13.0\n",
            "Угол между векторами a и b: 0.46\n"
          ]
        }
      ]
    },
    {
      "cell_type": "markdown",
      "source": [
        "3. Линейное пространство над полем вещественных чисел называется евклидовым пространством, если на нем введено правило, согласно которому каждой упорядоченной паре векторов x и y поставлено в соответствие вещественное число, называемое скалярным произведением и обозначаемое символом (x,y) .\n",
        "\n",
        "При этом указанное правило должно подчиняться четырем аксиомам:\n",
        "1) (x,y)=(y,x);\n",
        "2) (λx,y)=λ(x,y);\n",
        "3) (x1+x2,y)=(x1,y)+(x2,y);\n",
        "4) (x,x)≥0 , причем (x,x)=0⇔x=0.\n",
        "\n",
        "а) Нет. Так как нарушатся 2я и 3я аксиомы. Например, (x1+x2,y)=(x1,y)+(x2,y) будет выполняться только в случае если x1 и x2 коллинеарны. В противном случае норма от x1+x2 будет меньше, чем нормы от этих векторов по отдельности.\n",
        "\n",
        "б) Да. Так как выполняются все 4 аксиомы."
      ],
      "metadata": {
        "id": "ADAc9h6ctTPm"
      }
    },
    {
      "cell_type": "markdown",
      "source": [
        "4. В конечномерном евклидовом пространстве базис {e1,e2,...,en} называется ортонормированным, если (ei,ej)=0 ∀ i≠j и (ei,ei)=1 ∀ i∈[1,n].\n",
        "Это означает, что ортонормированный базис является ортогональным и состоит из векторов единичной длины. Эти два условия и нужно проверить:"
      ],
      "metadata": {
        "id": "2ZdSha2AQbZs"
      }
    },
    {
      "cell_type": "code",
      "source": [
        "# а)\n",
        "\n",
        "x = np.array([1, 0, 0])\n",
        "y = np.array([0, 0, 1])\n",
        "print(np.dot(x, y), norm(x), norm(y))"
      ],
      "metadata": {
        "colab": {
          "base_uri": "https://localhost:8080/"
        },
        "id": "NvWAVWEoQeyV",
        "outputId": "e71e5ea0-16c3-41bc-9372-882f507bece9"
      },
      "execution_count": 13,
      "outputs": [
        {
          "output_type": "stream",
          "name": "stdout",
          "text": [
            "0 1.0 1.0\n"
          ]
        }
      ]
    },
    {
      "cell_type": "code",
      "source": [
        "# б)\n",
        "\n",
        "x = np.array([1 / 2**0.5, -1 / 2**0.5, 0])\n",
        "y = np.array([1 / 2**0.5, 1 / 2**0.5, 0])\n",
        "z = np.array([0, 0, 1])\n",
        "print(np.dot(x, y), np.dot(x, z), np.dot(y, z))\n",
        "print(norm(x), norm(y), norm(z))"
      ],
      "metadata": {
        "colab": {
          "base_uri": "https://localhost:8080/"
        },
        "id": "xlb2vjL0RFjD",
        "outputId": "d95e4137-4313-460f-ea5b-0e26eeefbe27"
      },
      "execution_count": 14,
      "outputs": [
        {
          "output_type": "stream",
          "name": "stdout",
          "text": [
            "0.0 0.0 0.0\n",
            "0.9999999999999999 0.9999999999999999 1.0\n"
          ]
        }
      ]
    },
    {
      "cell_type": "code",
      "source": [
        "# в)\n",
        "\n",
        "x = np.array([0.5, -0.5, 0])\n",
        "y = np.array([0, 0.5, 0.5])\n",
        "z = np.array([0, 0, 1])\n",
        "print(np.dot(x, y), np.dot(x, z), np.dot(y, z))\n",
        "print(norm(x), norm(y), norm(z))"
      ],
      "metadata": {
        "colab": {
          "base_uri": "https://localhost:8080/"
        },
        "id": "m2zaUly7RIT1",
        "outputId": "435831b6-33ef-4f84-ec51-aca78172540b"
      },
      "execution_count": 15,
      "outputs": [
        {
          "output_type": "stream",
          "name": "stdout",
          "text": [
            "-0.25 0.0 0.5\n",
            "0.7071067811865476 0.7071067811865476 1.0\n"
          ]
        }
      ]
    },
    {
      "cell_type": "code",
      "source": [
        "# г)\n",
        "\n",
        "x = np.array([1, 0, 0])\n",
        "y = np.array([0, 1, 0])\n",
        "z = np.array([0, 0, 1])\n",
        "print(np.dot(x, y), np.dot(x, z), np.dot(y, z))\n",
        "print(norm(x), norm(y), norm(z))"
      ],
      "metadata": {
        "colab": {
          "base_uri": "https://localhost:8080/"
        },
        "id": "VojCLvVMRLAp",
        "outputId": "cfa927d4-42d3-4381-f7d5-96d00a8cbf54"
      },
      "execution_count": 16,
      "outputs": [
        {
          "output_type": "stream",
          "name": "stdout",
          "text": [
            "0 0 0\n",
            "1.0 1.0 1.0\n"
          ]
        }
      ]
    },
    {
      "cell_type": "markdown",
      "source": [
        "Ответ: условия выполняются для вариантов б и г. \n",
        "В варианте а недостаточно векторов для базиса трехмерного пространства."
      ],
      "metadata": {
        "id": "yaHuMK4MRQ3z"
      }
    }
  ],
  "metadata": {
    "colab": {
      "collapsed_sections": [],
      "name": "task_1-3.ipynb",
      "provenance": []
    },
    "kernelspec": {
      "display_name": "Python 3 (ipykernel)",
      "language": "python",
      "name": "python3"
    },
    "language_info": {
      "codemirror_mode": {
        "name": "ipython",
        "version": 3
      },
      "file_extension": ".py",
      "mimetype": "text/x-python",
      "name": "python",
      "nbconvert_exporter": "python",
      "pygments_lexer": "ipython3",
      "version": "3.8.13"
    }
  },
  "nbformat": 4,
  "nbformat_minor": 0
}