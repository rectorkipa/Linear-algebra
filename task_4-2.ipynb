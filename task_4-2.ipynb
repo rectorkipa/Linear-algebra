{
  "cells": [
    {
      "cell_type": "markdown",
      "metadata": {
        "id": "Gc0HjM95fO1P"
      },
      "source": [
        "# Урок 4, часть 2. Домашнее задание"
      ]
    },
    {
      "cell_type": "markdown",
      "metadata": {
        "id": "ZBi7FV66fPKf"
      },
      "source": [
        "__1.__ Решить систему уравнений методом Крамера:\n",
        "\n",
        "   а) $\\begin{cases}\n",
        "x_{1}-2x_{2}=1 \\\\\n",
        "3x_{1}-4x_{2}=7\n",
        "\\end{cases}$\n",
        "    \n",
        "   б) $\\begin{cases}\n",
        "2x_{1}-x_{2}+5x_{3}=10 \\\\\n",
        "x_{1}+x_{2}-3x_{3}=-2 \\\\\n",
        "2x_{1}+4x_{2}+x_{3}=1\n",
        "\\end{cases}$\n",
        "\n",
        "__2.__ Найти $L$-матрицу $LU$-разложения для матрицы коэффициентов:\n",
        "\n",
        "   а)$$\\begin{pmatrix}\n",
        "1 & 2 & 4 \\\\ \n",
        "2 & 9 & 12 \\\\ \n",
        "3 & 26 & 30\n",
        "\\end{pmatrix}$$\n",
        "    \n",
        "   б)$$\\begin{pmatrix}\n",
        "1 & 1 & 2 & 4\\\\ \n",
        "2 & 5 & 8 & 9\\\\ \n",
        "3 & 18 & 29 & 18\\\\\n",
        "4 & 22 & 53 & 33\n",
        "\\end{pmatrix}$$\n",
        "    \n",
        "__3.__ Решить систему линейных уравнений методом $LU$-разложения\n",
        "\n",
        "$$\\begin{cases}\n",
        "2x_{1}+x_{2}+3x_{3}=1 \\\\\n",
        "11x_{1}+7x_{2}+5x_{3}=-6 \\\\\n",
        "9x_{1}+8x_{2}+4x_{3}=-5\n",
        "\\end{cases}$$\n",
        "\n",
        "__4.__ Решить систему линейных уравнений методом Холецкого\n",
        "\n",
        "$$\\begin{cases}\n",
        "81x_{1}-45x_{2}+45x_{3}=531 \\\\\n",
        "-45x_{1}+50x_{2}-15x_{3}=-460 \\\\\n",
        "45x_{1}-15x_{2}+38x_{3}=193\n",
        "\\end{cases}$$\n",
        "\n",
        "__5*.__ Написать на Python программу с реализацией одного из изученных алгоритмов решения СЛАУ."
      ]
    },
    {
      "cell_type": "code",
      "source": [
        "import numpy as np"
      ],
      "metadata": {
        "id": "ctl3sWdYFyrF"
      },
      "execution_count": 15,
      "outputs": []
    },
    {
      "cell_type": "code",
      "source": [
        "# 1\n",
        "\n",
        "# а)\n",
        "\n",
        "a = np.array([[1, -2], [3, -4]])\n",
        "b = np.array([1, 7])\n",
        "\n",
        "np.linalg.solve(a, b)"
      ],
      "metadata": {
        "colab": {
          "base_uri": "https://localhost:8080/"
        },
        "id": "8YMfN_VhFzzx",
        "outputId": "1ecf3642-85d4-42e7-c98d-f91c04aa82ea"
      },
      "execution_count": 16,
      "outputs": [
        {
          "output_type": "execute_result",
          "data": {
            "text/plain": [
              "array([5., 2.])"
            ]
          },
          "metadata": {},
          "execution_count": 16
        }
      ]
    },
    {
      "cell_type": "code",
      "source": [
        "# б) \n",
        "\n",
        "a = np.array([[2, -1, 5], [1, 1, -3], [2, 4, 1]])\n",
        "b = np.array([10, -2, 1])\n",
        "\n",
        "np.linalg.solve(a, b)"
      ],
      "metadata": {
        "colab": {
          "base_uri": "https://localhost:8080/"
        },
        "id": "rwjcRIUwGEAy",
        "outputId": "83288daf-3d75-44dc-da81-16b558aa086c"
      },
      "execution_count": 17,
      "outputs": [
        {
          "output_type": "execute_result",
          "data": {
            "text/plain": [
              "array([ 2., -1.,  1.])"
            ]
          },
          "metadata": {},
          "execution_count": 17
        }
      ]
    },
    {
      "cell_type": "code",
      "source": [
        "# 2\n",
        "\n",
        "# а)\n",
        "\n",
        "from scipy.linalg import lu\n",
        "A = np.array([[1, 2, 4], [2, 9, 12], [3, 26, 30]])\n",
        "p, l, u = lu(A)\n",
        "\n",
        "l"
      ],
      "metadata": {
        "colab": {
          "base_uri": "https://localhost:8080/"
        },
        "id": "F24oMv7xNn58",
        "outputId": "ff89fd76-87e7-4be1-a0d8-480c49a710d4"
      },
      "execution_count": 18,
      "outputs": [
        {
          "output_type": "execute_result",
          "data": {
            "text/plain": [
              "array([[1.        , 0.        , 0.        ],\n",
              "       [0.66666667, 1.        , 0.        ],\n",
              "       [0.33333333, 0.8       , 1.        ]])"
            ]
          },
          "metadata": {},
          "execution_count": 18
        }
      ]
    },
    {
      "cell_type": "markdown",
      "source": [
        "Почему-то не совпадает с решением на листке. "
      ],
      "metadata": {
        "id": "KTllaBJaP7VB"
      }
    },
    {
      "cell_type": "code",
      "source": [
        "# б)\n",
        "\n",
        "A = np.array([[1, 1, 2, 4], [2, 5, 8, 9], [3, 18, 29, 18], [4, 22, 53, 33]])\n",
        "p, l, u = lu(A)\n",
        "\n",
        "l"
      ],
      "metadata": {
        "colab": {
          "base_uri": "https://localhost:8080/"
        },
        "id": "M38D6OLEP_yu",
        "outputId": "9b5fa84b-34cd-4837-abd6-a75b1979621f"
      },
      "execution_count": 19,
      "outputs": [
        {
          "output_type": "execute_result",
          "data": {
            "text/plain": [
              "array([[ 1.        ,  0.        ,  0.        ,  0.        ],\n",
              "       [ 0.5       ,  1.        ,  0.        ,  0.        ],\n",
              "       [ 0.75      , -0.25      ,  1.        ,  0.        ],\n",
              "       [ 0.25      ,  0.75      , -0.17073171,  1.        ]])"
            ]
          },
          "metadata": {},
          "execution_count": 19
        }
      ]
    },
    {
      "cell_type": "markdown",
      "source": [
        "Почему-то не совпадает с решением на листке."
      ],
      "metadata": {
        "id": "Ow_O67PlapDK"
      }
    },
    {
      "cell_type": "code",
      "source": [
        "# 3\n",
        "\n",
        "a = np.array([[2, 1, 3], [11, 7, 5], [9, 8, 4]])\n",
        "b = np.array([1, -6, -5])\n",
        "\n",
        "np.linalg.solve(a, b)"
      ],
      "metadata": {
        "colab": {
          "base_uri": "https://localhost:8080/"
        },
        "id": "sJ1tUymWauci",
        "outputId": "067e60ce-5555-4282-ce44-6b6462e06d07"
      },
      "execution_count": 20,
      "outputs": [
        {
          "output_type": "execute_result",
          "data": {
            "text/plain": [
              "array([-1.,  0.,  1.])"
            ]
          },
          "metadata": {},
          "execution_count": 20
        }
      ]
    },
    {
      "cell_type": "code",
      "source": [
        "# 4\n",
        "\n",
        "a = np.array([[81, -45, 45], [-45, 50, -15], [45, -15, 38]])\n",
        "b = np.array([531, -460, 193])\n",
        "\n",
        "np.linalg.solve(a, b)"
      ],
      "metadata": {
        "colab": {
          "base_uri": "https://localhost:8080/"
        },
        "id": "_CufrokqAIXH",
        "outputId": "b632ade9-af4a-493b-fed8-7c3faffdd78a"
      },
      "execution_count": 21,
      "outputs": [
        {
          "output_type": "execute_result",
          "data": {
            "text/plain": [
              "array([ 6., -5., -4.])"
            ]
          },
          "metadata": {},
          "execution_count": 21
        }
      ]
    },
    {
      "cell_type": "code",
      "source": [
        "# 5*\n",
        "\n",
        "def kramer_method(a, b):\n",
        "    \n",
        "    det_a = np.linalg.det(a)\n",
        "    \n",
        "    if det_a != 0 and a.shape[0] == a.shape[1]:\n",
        "        M = np.array([])\n",
        "        X = []\n",
        "        for j in range(len(a)):\n",
        "            M = a.copy()\n",
        "            M[:, j] = b\n",
        "            X.append(round(np.linalg.det(M)/det_a)) \n",
        "        return X\n",
        "    else:\n",
        "        return False"
      ],
      "metadata": {
        "id": "IJTy99BOAkNe"
      },
      "execution_count": 22,
      "outputs": []
    },
    {
      "cell_type": "code",
      "source": [
        "a = np.array([[81, -45, 45], [-45, 50, -15], [45, -15, 38]])\n",
        "b = np.array([531, -460, 193])\n",
        "\n",
        "print(kramer_method(a, b))"
      ],
      "metadata": {
        "colab": {
          "base_uri": "https://localhost:8080/"
        },
        "id": "BKqWfI9MEtHq",
        "outputId": "732e9c4b-dfd0-4e7f-835a-19aeb1e7f0d5"
      },
      "execution_count": 23,
      "outputs": [
        {
          "output_type": "stream",
          "name": "stdout",
          "text": [
            "[6, -5, -4]\n"
          ]
        }
      ]
    }
  ],
  "metadata": {
    "colab": {
      "collapsed_sections": [],
      "provenance": []
    },
    "kernelspec": {
      "display_name": "Python 3 (ipykernel)",
      "language": "python",
      "name": "python3"
    },
    "language_info": {
      "codemirror_mode": {
        "name": "ipython",
        "version": 3
      },
      "file_extension": ".py",
      "mimetype": "text/x-python",
      "name": "python",
      "nbconvert_exporter": "python",
      "pygments_lexer": "ipython3",
      "version": "3.8.13"
    }
  },
  "nbformat": 4,
  "nbformat_minor": 0
}